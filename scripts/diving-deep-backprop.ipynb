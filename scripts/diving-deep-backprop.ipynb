{
 "cells": [
  {
   "cell_type": "markdown",
   "id": "f3314048",
   "metadata": {},
   "source": [
    "# Make more Part 4: Diving deep into back prop\n",
    "- Implementing back prop by hand from scratch"
   ]
  },
  {
   "cell_type": "code",
   "execution_count": 4,
   "id": "9561c5c1",
   "metadata": {},
   "outputs": [],
   "source": [
    "import torch\n",
    "import torch.nn.functional as F\n",
    "import matplotlib.pyplot as plt\n",
    "%matplotlib inline"
   ]
  },
  {
   "cell_type": "code",
   "execution_count": 5,
   "id": "1ed02f8a",
   "metadata": {},
   "outputs": [],
   "source": [
    "words = open('../data/names.txt', 'r').read().splitlines()"
   ]
  },
  {
   "cell_type": "code",
   "execution_count": 6,
   "id": "af0e1aa9",
   "metadata": {},
   "outputs": [
    {
     "data": {
      "text/plain": [
       "{1: 'a',\n",
       " 2: 'b',\n",
       " 3: 'c',\n",
       " 4: 'd',\n",
       " 5: 'e',\n",
       " 6: 'f',\n",
       " 7: 'g',\n",
       " 8: 'h',\n",
       " 9: 'i',\n",
       " 10: 'j',\n",
       " 11: 'k',\n",
       " 12: 'l',\n",
       " 13: 'm',\n",
       " 14: 'n',\n",
       " 15: 'o',\n",
       " 16: 'p',\n",
       " 17: 'q',\n",
       " 18: 'r',\n",
       " 19: 's',\n",
       " 20: 't',\n",
       " 21: 'u',\n",
       " 22: 'v',\n",
       " 23: 'w',\n",
       " 24: 'x',\n",
       " 25: 'y',\n",
       " 26: 'z',\n",
       " 0: '.'}"
      ]
     },
     "execution_count": 6,
     "metadata": {},
     "output_type": "execute_result"
    }
   ],
   "source": [
    "# build vocab of characters\n",
    "chars = sorted(list(set(''.join(words))))\n",
    "stoi = {s:i+1 for i,s in enumerate(chars)}\n",
    "stoi['.'] = 0\n",
    "itos = {i:s for s,i in stoi.items()}\n",
    "itos"
   ]
  },
  {
   "cell_type": "code",
   "execution_count": 7,
   "id": "c450cf32",
   "metadata": {},
   "outputs": [],
   "source": [
    "# building the dataset\n",
    "def build_dataset(words):\n",
    "    block_size = 3\n",
    "    X,Y = [],[]\n",
    "    for w in words:\n",
    "        context = [0]*block_size\n",
    "        for ch in w + '.':\n",
    "            ix = stoi[ch]\n",
    "            X.append(context)\n",
    "            Y.append(ix)\n",
    "            context = context[1:] + [ix]\n",
    "    X = torch.tensor(X)\n",
    "    Y = torch.tensor(Y)\n",
    "    return X,Y"
   ]
  },
  {
   "cell_type": "code",
   "execution_count": 8,
   "id": "4801c287",
   "metadata": {},
   "outputs": [],
   "source": [
    "# train, val and test splits:\n",
    "import random\n",
    "random.seed(42)\n",
    "n1 = int(0.8*len(words))\n",
    "n2 = int(0.9*len(words))\n",
    "Xtr, Ytr = build_dataset(words[:n1])\n",
    "Xval, Yval = build_dataset(words[n1:n2])\n",
    "Xtest, Ytest = build_dataset(words[n2:])"
   ]
  },
  {
   "cell_type": "markdown",
   "id": "0f675c45",
   "metadata": {},
   "source": [
    "### Introducing a gradient checker function\n",
    "- Checks the gradients collected with our implementation of back prop with the one\n",
    "- We use Bessel's correction: divide by n-1 instead of n"
   ]
  },
  {
   "cell_type": "code",
   "execution_count": 48,
   "id": "9e9dd504",
   "metadata": {},
   "outputs": [],
   "source": [
    "def gradient_comparator(s:str,dt:torch.Tensor, t:torch.Tensor):\n",
    "    \"\"\"_summary_\n",
    "\n",
    "    Args:\n",
    "        s (str): Label\n",
    "        dt (torch.Tensor): Pytorch gradient\n",
    "        t (torch.Tensor): Our gradient\n",
    "    \"\"\"\n",
    "    exact_match = torch.all(dt==t.grad).item()\n",
    "    approx_match = torch.allclose(dt, t.grad)\n",
    "    max_diff = torch.max(torch.abs(dt-t.grad)).item()\n",
    "    print(f'{s:15s} | exact_match: {str(exact_match):5s} | approx_match: {str(approx_match):5s} | max_diff: {max_diff}')    "
   ]
  },
  {
   "cell_type": "markdown",
   "id": "60fabccf",
   "metadata": {},
   "source": [
    "### Initialising Network\n",
    "- We will use some non standard ways to initialise network just to make sure we have gradients for all layers and can verify them.\n",
    "- Setting biases to random values instead of zeros. Because sometimes initialising with zeros could mask incorrect implementation of back prop"
   ]
  },
  {
   "cell_type": "code",
   "execution_count": 79,
   "id": "28a9886c",
   "metadata": {},
   "outputs": [],
   "source": [
    "n_embed = 10\n",
    "n_hidden = 64\n",
    "vocab_size = 27\n",
    "block_size = 3\n",
    "fan_in = n_embed*block_size\n",
    "g = torch.Generator().manual_seed(2147483647)\n",
    "C = torch.randn((vocab_size, n_embed), generator=g)\n",
    "# Layer 1\n",
    "W1 = torch.randn((fan_in, n_hidden), generator=g) * (5/3)*(fan_in**-0.5)\n",
    "b1 = torch.randn(n_hidden, generator=g) * 0.1\n",
    "# Layer 2\n",
    "W2 = torch.randn((n_hidden, vocab_size), generator=g) * 0.1\n",
    "b2 = torch.randn(vocab_size, generator=g) * 0.1\n",
    "# batch norm params:\n",
    "bngain = torch.randn((1, n_hidden))*0.1 + 1.0\n",
    "bnbias = torch.randn((1,n_hidden))*0.1\n",
    "\n",
    "parameters = [C, W1, b1, W2, b2, bngain, bnbias]\n",
    "for p in parameters:\n",
    "    p.requires_grad = True"
   ]
  },
  {
   "cell_type": "code",
   "execution_count": 80,
   "id": "fb4aa9da",
   "metadata": {},
   "outputs": [],
   "source": [
    "batch_size =32\n",
    "n = batch_size\n",
    "ix = torch.randint(0, Xtr.shape[0], (batch_size,))\n",
    "Xb, Yb = Xtr[ix], Ytr[ix]"
   ]
  },
  {
   "cell_type": "code",
   "execution_count": null,
   "id": "1a2e1bf3",
   "metadata": {},
   "outputs": [
    {
     "data": {
      "text/plain": [
       "tensor(3.4808, grad_fn=<NegBackward0>)"
      ]
     },
     "execution_count": 81,
     "metadata": {},
     "output_type": "execute_result"
    }
   ],
   "source": [
    "emb = C[Xb]\n",
    "embcat = emb.view(emb.shape[0], -1)\n",
    "# Linear layer 1\n",
    "hprebn = embcat @ W1 + b1 # hidden layer pre-activation\n",
    "# BatchNorm layer\n",
    "bnmeani = 1/n*hprebn.sum(0, keepdim=True)\n",
    "bndiff = hprebn - bnmeani\n",
    "bndiff2 = bndiff**2\n",
    "bnvar = 1/(n-1)*(bndiff2).sum(0, keepdim=True) # note: Bessel's correction (dividing by n-1, not n)\n",
    "bnvar_inv = (bnvar + 1e-5)**-0.5\n",
    "bnraw = bndiff * bnvar_inv\n",
    "hpreact = bngain * bnraw + bnbias\n",
    "# Non-linearity\n",
    "h = torch.tanh(hpreact) # hidden layer\n",
    "# Linear layer 2\n",
    "logits = h @ W2 + b2 # output layer\n",
    "# cross entropy loss (same as F.cross_entropy(logits, Yb))\n",
    "logits_max = logits.max(1, keepdim=True).values\n",
    "norm_logits = logits - logits_max # subtract max for numerical stability\n",
    "counts = norm_logits.exp()\n",
    "counts_sum = counts.sum(1, keepdim=True)\n",
    "counts_sum_inv = counts_sum**-1 # if I use (1.0 / counts_sum) instead then I can't get backprop to be bit exact...\n",
    "probs = counts * counts_sum_inv\n",
    "logprobs = probs.log()\n",
    "loss = -logprobs[range(n), Yb].mean()\n",
    "\n",
    "# PyTorch backward pass\n",
    "for p in parameters:\n",
    "  p.grad = None\n",
    "for t in [logprobs, probs, counts, counts_sum, counts_sum_inv, # afaik there is no cleaner way\n",
    "          norm_logits, logits_max, logits, h, hpreact, bnraw,\n",
    "         bnvar_inv, bnvar, bndiff2, bndiff, hprebn, bnmeani,\n",
    "         embcat, emb]:\n",
    "  t.retain_grad()\n",
    "loss.backward()\n",
    "loss"
   ]
  },
  {
   "cell_type": "code",
   "execution_count": 77,
   "id": "ebe75025",
   "metadata": {},
   "outputs": [
    {
     "data": {
      "text/plain": [
       "(torch.Size([32, 64]), torch.Size([1, 64]), torch.Size([32, 64]))"
      ]
     },
     "execution_count": 77,
     "metadata": {},
     "output_type": "execute_result"
    }
   ],
   "source": [
    "bndiff.shape,bnmeani.shape, hprebn.shape"
   ]
  },
  {
   "cell_type": "markdown",
   "id": "7977e610",
   "metadata": {},
   "source": [
    "# Backpropagating through the network"
   ]
  },
  {
   "cell_type": "code",
   "execution_count": null,
   "id": "b25ff204",
   "metadata": {},
   "outputs": [
    {
     "name": "stdout",
     "output_type": "stream",
     "text": [
      "log_probs       | exact_match: True  | approx_match: True  | max_diff: 0.0\n",
      "probs           | exact_match: True  | approx_match: True  | max_diff: 0.0\n",
      "counts_sum_inv  | exact_match: True  | approx_match: True  | max_diff: 0.0\n",
      "counts_sum      | exact_match: True  | approx_match: True  | max_diff: 0.0\n",
      "counts          | exact_match: True  | approx_match: True  | max_diff: 0.0\n",
      "norm_logits     | exact_match: True  | approx_match: True  | max_diff: 0.0\n",
      "logits_max      | exact_match: True  | approx_match: True  | max_diff: 0.0\n",
      "logits          | exact_match: True  | approx_match: True  | max_diff: 0.0\n",
      "h               | exact_match: True  | approx_match: True  | max_diff: 0.0\n",
      "W2              | exact_match: True  | approx_match: True  | max_diff: 0.0\n",
      "b2              | exact_match: True  | approx_match: True  | max_diff: 0.0\n",
      "hpreact         | exact_match: True  | approx_match: True  | max_diff: 0.0\n",
      "bngain          | exact_match: True  | approx_match: True  | max_diff: 0.0\n",
      "bnraw           | exact_match: True  | approx_match: True  | max_diff: 0.0\n",
      "bnbias          | exact_match: True  | approx_match: True  | max_diff: 0.0\n",
      "bnvar_inv       | exact_match: True  | approx_match: True  | max_diff: 0.0\n",
      "bnvar           | exact_match: True  | approx_match: True  | max_diff: 0.0\n",
      "bndiff2         | exact_match: True  | approx_match: True  | max_diff: 0.0\n",
      "bndiff          | exact_match: True  | approx_match: True  | max_diff: 0.0\n",
      "bnmeani         | exact_match: True  | approx_match: True  | max_diff: 0.0\n",
      "hprebn          | exact_match: True  | approx_match: True  | max_diff: 0.0\n",
      "embcat          | exact_match: True  | approx_match: True  | max_diff: 0.0\n",
      "W1              | exact_match: True  | approx_match: True  | max_diff: 0.0\n",
      "b1              | exact_match: True  | approx_match: True  | max_diff: 0.0\n",
      "emb             | exact_match: True  | approx_match: True  | max_diff: 0.0\n",
      "C               | exact_match: True  | approx_match: True  | max_diff: 0.0\n"
     ]
    }
   ],
   "source": [
    "# Step 1: Calculating gradient of log prob\n",
    "dlogprobs = torch.zeros_like(logprobs)\n",
    "dlogprobs[torch.arange(n), Yb] = -1.0/n\n",
    "## Compare gradients:\n",
    "gradient_comparator('log_probs',dlogprobs, logprobs)\n",
    "\n",
    "# Step 2: Calculating gradient of probs:\n",
    "dprobs = (1/probs) * dlogprobs # chain rule\n",
    "## Compare gradients:\n",
    "gradient_comparator('probs',dprobs, probs)\n",
    "\n",
    "# Step 3: Calculating gradient of Inverse of counts sum:\n",
    "dcounts_sum_inv = (counts * dprobs).sum(dim=1, keepdim=True) # sum because counts_sum_inv is broadcasted to counts so we need to sum it's gradients\n",
    "## Compare gradients:\n",
    "gradient_comparator('counts_sum_inv',dcounts_sum_inv, counts_sum_inv)\n",
    "\n",
    "# Step 4: Calculating gradient of counts sum:\n",
    "dcounts = counts_sum_inv * dprobs\n",
    "\n",
    "# Step 5: Calculating gradient of counts_sum:\n",
    "dcounts_sum = (-counts_sum**-2)* dcounts_sum_inv\n",
    "gradient_comparator('counts_sum', dcounts_sum, counts_sum)\n",
    "\n",
    "# Step 6: Calculating gradient of counts:\n",
    "dcounts += torch.ones_like(counts)* dcounts_sum # combine gradients from both branches of dcounts\n",
    "## Compare gradients:\n",
    "gradient_comparator('counts', dcounts, counts)\n",
    "\n",
    "# Step 7: Calculating gradient of norm logits:\n",
    "dnormlogits = dcounts * norm_logits.exp()\n",
    "gradient_comparator('norm_logits', dnormlogits, norm_logits)\n",
    "\n",
    "# Step 8: Calculating gradient for logits:\n",
    "dlogits = dnormlogits.clone() \n",
    "\n",
    "# Step 9: Calculating gradient of logit_max:\n",
    "dlogits_max = (-dnormlogits).sum(dim=1, keepdim=True)\n",
    "gradient_comparator('logits_max', dlogits_max, logits_max)\n",
    "\n",
    "# Step 10: Calculating gradient for logits:\n",
    "dlogits += F.one_hot(logits.max(1).indices, num_classes=logits.shape[1])*dlogits_max\n",
    "gradient_comparator('logits', dlogits, logits)\n",
    "\n",
    "# Step 11: Calculating gradient of h, W2 and b2\n",
    "dh = dlogits @ W2.T\n",
    "dW2 = h.T @ dlogits\n",
    "db2 = dlogits.sum(0)\n",
    "gradient_comparator('h', dh, h)\n",
    "gradient_comparator('W2', dW2, W2)\n",
    "gradient_comparator('b2', db2, b2)\n",
    "\n",
    "# Step 12: Calculating gradient of hpreact\n",
    "dhpreact = (1.0 - h**2) * dh\n",
    "gradient_comparator('hpreact', dhpreact, hpreact)\n",
    "\n",
    "# Step 13: Calculating gradient of bngain, bnraw, bnbias\n",
    "dbngain = (bnraw * dhpreact).sum(0, keepdim=True)\n",
    "dbnraw = bngain * dhpreact\n",
    "dbnbias = dhpreact.sum(0, keepdim=True)\n",
    "gradient_comparator('bngain', dbngain, bngain)\n",
    "gradient_comparator('bnraw', dbnraw, bnraw)\n",
    "gradient_comparator('bnbias', dbnbias, bnbias)\n",
    "\n",
    "# Step 14 Calculating gradient of bndiff and bnvar_inv\n",
    "dbndiff = bnvar_inv * dbnraw\n",
    "dbnvar_inv = (bndiff * dbnraw).sum(0, keepdim=True)\n",
    "gradient_comparator('bnvar_inv', dbnvar_inv, bnvar_inv)\n",
    "\n",
    "# Step 15: Calculating gradient of bnvar:\n",
    "dbnvar = (-0.5*(bnvar + 1e-5)**-1.5) * dbnvar_inv\n",
    "gradient_comparator('bnvar', dbnvar, bnvar)\n",
    "\n",
    "# Step 16: Calculate gradient of bndiff2:\n",
    "dbndiff2 = (1.0/(n-1))*torch.ones_like(bndiff2) * dbnvar\n",
    "gradient_comparator('bndiff2', dbndiff2, bndiff2)\n",
    "\n",
    "## Second of bndiff:\n",
    "dbndiff += (2*bndiff) * dbndiff2\n",
    "gradient_comparator('bndiff', dbndiff, bndiff)\n",
    "\n",
    "# Step 17: Calculate gradient of hprebn and bnmeani:\n",
    "dhprebn = dbndiff.clone()\n",
    "dbnmeani = (-dbndiff).sum(0)\n",
    "gradient_comparator('bnmeani', dbnmeani, bnmeani)\n",
    "\n",
    "## Second part of dhprebn:\n",
    "dhprebn += 1.0/n * (torch.ones_like(hprebn) * dbnmeani)\n",
    "gradient_comparator('hprebn', dhprebn, hprebn)\n",
    "\n",
    "# Step 18: Calculate gradient of embcat, W1 and b1:\n",
    "dembcat = dhprebn @ W1.T\n",
    "dW1 = embcat.T @ dhprebn\n",
    "db1 = dhprebn.sum(0)\n",
    "gradient_comparator('embcat', dembcat, embcat)\n",
    "gradient_comparator('W1', dW1, W1)\n",
    "gradient_comparator('b1', db1, b1)\n",
    "\n",
    "# Step 19: Calculate gradient of emb:\n",
    "demb = dembcat.view(emb.shape)\n",
    "gradient_comparator('emb', demb, emb)\n",
    "\n",
    "# Step 20: Calculate gradient of C:\n",
    "dC = torch.zeros_like(C)\n",
    "for i in range(Xb.shape[0]):\n",
    "    for j in range(Xb.shape[1]):\n",
    "        ix = Xb[i,j]\n",
    "        dC[ix] += demb[i,j]\n",
    "gradient_comparator('C', dC, C)"
   ]
  },
  {
   "cell_type": "markdown",
   "id": "dd4b1f4f",
   "metadata": {},
   "source": [
    "# Calculating simplified gradients for logits:\n",
    "- Instead of calculating gradients for each and every step of back prop, we can simplify it by calculating gradient of loss wrt logits\n",
    "- We can use softmax to calculate this\n",
    "- The gradients boils down to 2 calculations:\n",
    "    - When y != true label, Softmax is the gradient\n",
    "    - When y==True label, Softmax-1 is the  gradient\n",
    "    - And we need to scale the gradient by n because we calculate avg of softmax as our loss\n",
    "- The idea is: dlogits represents the amount by which we push probabilities up for correct characters and down for incorrect characters"
   ]
  },
  {
   "cell_type": "code",
   "execution_count": null,
   "id": "643c2eb4",
   "metadata": {},
   "outputs": [
    {
     "name": "stdout",
     "output_type": "stream",
     "text": [
      "logits          | exact_match: False | approx_match: True  | max_diff: 4.6566128730773926e-09\n"
     ]
    }
   ],
   "source": [
    "# simplified gradients for logits:\n",
    "dlogits = F.softmax(logits, dim=1)\n",
    "dlogits[range(n), Yb] -=1\n",
    "dlogits /= n\n",
    "gradient_comparator('logits', dlogits, logits) "
   ]
  },
  {
   "cell_type": "markdown",
   "id": "edf7f4d7",
   "metadata": {},
   "source": [
    "## Visualizing dlogits"
   ]
  },
  {
   "cell_type": "code",
   "execution_count": 88,
   "id": "aee72b37",
   "metadata": {},
   "outputs": [
    {
     "data": {
      "text/plain": [
       "<matplotlib.image.AxesImage at 0x135040e10>"
      ]
     },
     "execution_count": 88,
     "metadata": {},
     "output_type": "execute_result"
    },
    {
     "data": {
      "image/png": "[encoded data removed]",
      "text/plain": [
       "<Figure size 800x800 with 1 Axes>"
      ]
     },
     "metadata": {},
     "output_type": "display_data"
    }
   ],
   "source": [
    "plt.figure(figsize=(8, 8))\n",
    "plt.imshow(dlogits.detach(), cmap='gray')"
   ]
  },
  {
   "cell_type": "code",
   "execution_count": 91,
   "id": "e605b225",
   "metadata": {},
   "outputs": [
    {
     "name": "stdout",
     "output_type": "stream",
     "text": [
      "dhprebn         | exact_match: False | approx_match: True  | max_diff: 9.313225746154785e-10\n"
     ]
    }
   ],
   "source": [
    "## MOdifying batch norm to fit in a single step\n",
    "## Using calculations by hand to calculate gradients \n",
    "dhprebn = bngain * bnvar_inv/n * (n * dhpreact -dhpreact.sum(0) - n/(n-1)*bnraw * (dhpreact*bnraw).sum(0))\n",
    "gradient_comparator('dhprebn', dhprebn, hprebn)"
   ]
  },
  {
   "cell_type": "code",
   "execution_count": 98,
   "id": "2547a9dd",
   "metadata": {},
   "outputs": [
    {
     "name": "stdout",
     "output_type": "stream",
     "text": [
      "0 / 200000 loss: 3.2878\n",
      "10000 / 200000 loss: 2.1231\n",
      "20000 / 200000 loss: 2.3439\n",
      "30000 / 200000 loss: 2.1008\n",
      "40000 / 200000 loss: 2.0448\n",
      "50000 / 200000 loss: 2.3835\n",
      "60000 / 200000 loss: 1.9799\n",
      "70000 / 200000 loss: 1.9750\n",
      "80000 / 200000 loss: 2.1440\n",
      "90000 / 200000 loss: 2.3039\n",
      "100000 / 200000 loss: 2.1721\n",
      "110000 / 200000 loss: 2.1609\n",
      "120000 / 200000 loss: 1.8855\n",
      "130000 / 200000 loss: 2.2752\n",
      "140000 / 200000 loss: 1.9743\n",
      "150000 / 200000 loss: 2.6401\n",
      "160000 / 200000 loss: 2.2051\n",
      "170000 / 200000 loss: 2.2805\n",
      "180000 / 200000 loss: 1.9105\n",
      "190000 / 200000 loss: 1.7767\n"
     ]
    }
   ],
   "source": [
    "## Putting everything together\n",
    "\n",
    "## Reinitializing the model\n",
    "n_embed = 10\n",
    "n_hidden = 64\n",
    "vocab_size = 27\n",
    "block_size = 3\n",
    "fan_in = n_embed*block_size\n",
    "g = torch.Generator().manual_seed(2147483647)\n",
    "C = torch.randn((vocab_size, n_embed), generator=g)\n",
    "# Layer 1\n",
    "W1 = torch.randn((fan_in, n_hidden), generator=g) * (5/3)*(fan_in**-0.5)\n",
    "b1 = torch.randn(n_hidden, generator=g) * 0.1\n",
    "# Layer 2\n",
    "W2 = torch.randn((n_hidden, vocab_size), generator=g) * 0.1\n",
    "b2 = torch.randn(vocab_size, generator=g) * 0.1\n",
    "# batch norm params:\n",
    "bngain = torch.randn((1, n_hidden))*0.1 + 1.0\n",
    "bnbias = torch.randn((1,n_hidden))*0.1\n",
    "\n",
    "parameters = [C, W1, b1, W2, b2, bngain, bnbias]\n",
    "for p in parameters:\n",
    "    p.requires_grad = True\n",
    "\n",
    "batch_size =32\n",
    "max_steps = 200000\n",
    "losses = []\n",
    "\n",
    "for i in range(max_steps):\n",
    "    ix = torch.randint(0, Xtr.shape[0], (batch_size,))\n",
    "    Xb, Yb = Xtr[ix], Ytr[ix]\n",
    "    \n",
    "    emb = C[Xb]\n",
    "    embcat = emb.view(emb.shape[0], -1)\n",
    "    # Linear layer 1\n",
    "    hprebn = embcat @ W1 + b1 # hidden layer pre-activation\n",
    "    # BatchNorm layer\n",
    "    bnmeani = 1/n*hprebn.sum(0, keepdim=True)\n",
    "    bndiff = hprebn - bnmeani\n",
    "    bndiff2 = bndiff**2\n",
    "    bnvar = 1/(n-1)*(bndiff2).sum(0, keepdim=True) # note: Bessel's correction (dividing by n-1, not n)\n",
    "    bnvar_inv = (bnvar + 1e-5)**-0.5\n",
    "    bnraw = bndiff * bnvar_inv\n",
    "    hpreact = bngain * bnraw + bnbias\n",
    "    \n",
    "    # Non-linearity\n",
    "    h = torch.tanh(hpreact) # hidden layer\n",
    "    # Linear layer 2\n",
    "    logits = h @ W2 + b2 # output layer\n",
    "    # cross entropy loss (same as F.cross_entropy(logits, Yb))\n",
    "    loss = F.cross_entropy(logits, Yb)\n",
    "\n",
    "    # PyTorch backward pass\n",
    "    for p in parameters:\n",
    "        p.grad = None\n",
    "    #loss.backward()\n",
    "    \n",
    "    # Manual backprop\n",
    "    ## dlogits\n",
    "    dlogits = F.softmax(logits, dim=1)\n",
    "    dlogits[range(n), Yb] -= 1\n",
    "    dlogits /= n\n",
    "\n",
    "    ## 2nd layer backprop\n",
    "    ## dh\n",
    "    dh = dlogits @ W2.T\n",
    "    dW2 = h.T @ dlogits\n",
    "    db2 = dlogits.sum(0)\n",
    "\n",
    "    ## tanh backprop\n",
    "    dhpreact = (1.0 - h**2) * dh\n",
    "    \n",
    "    ## batchnorm backprop\n",
    "    dbngain = (bnraw * dhpreact).sum(0, keepdim=True)\n",
    "    dbnbias = (dhpreact).sum(0, keepdim=True)\n",
    "    dhprebn = bngain * bnvar_inv/n * (n * dhpreact -dhpreact.sum(0) - n/(n-1)*bnraw * (dhpreact*bnraw).sum(0))\n",
    "\n",
    "    ## 1st layer backprop\n",
    "    dembcat = dhprebn @ W1.T\n",
    "    dW1 = embcat.T @ dhprebn\n",
    "    db1 = dhprebn.sum(0)\n",
    "\n",
    "    ## Embedding backprop\n",
    "    demb = dembcat.view(emb.shape)\n",
    "    dC = torch.zeros_like(C)\n",
    "    for k in range(Xb.shape[0]):\n",
    "        for j in range(Xb.shape[1]):\n",
    "            ix = Xb[k,j]\n",
    "            dC[ix] += demb[k,j]\n",
    "            \n",
    "    grads = [dC, dW1, db1, dW2, db2, dbngain, dbnbias]\n",
    "    \n",
    "    # lr update\n",
    "    lr = 0.1 if i<100000 else 0.01\n",
    "    for p, grad in zip(parameters, grads):\n",
    "        p.data += -lr * grad\n",
    "    if i % 10000 == 0:\n",
    "        print(f'{i} / {max_steps} loss: {loss.item():.4f}')   \n",
    "    losses.append(loss.log10().item())\n",
    "     "
   ]
  },
  {
   "cell_type": "code",
   "execution_count": 100,
   "id": "cb04933d",
   "metadata": {},
   "outputs": [],
   "source": [
    "# calibrate batch norm params at the end of training\n",
    "with torch.no_grad():\n",
    "    emb = C[Xtr]\n",
    "    embcat = emb.view(emb.shape[0], -1)\n",
    "    hpreact = embcat @ W1 + b1\n",
    "    \n",
    "    # mean and std over entire dataset\n",
    "    bnmean = hpreact.mean(0, keepdim=True)\n",
    "    bnvar = hpreact.var(0, keepdim=True, unbiased = True)"
   ]
  },
  {
   "cell_type": "code",
   "execution_count": 101,
   "id": "25470370",
   "metadata": {},
   "outputs": [
    {
     "data": {
      "text/plain": [
       "(('train', 2.486947536468506), ('val', 2.7306370735168457))"
      ]
     },
     "execution_count": 101,
     "metadata": {},
     "output_type": "execute_result"
    }
   ],
   "source": [
    "@torch.no_grad() # When we want to disable gradient tracking\n",
    "def split_loss_bn(split:str) -> tuple[str, float]:\n",
    "    X,y = {\n",
    "        'train':(Xtr, Ytr),\n",
    "        'val':(Xval, Yval),\n",
    "        'test':(Xtest, Ytest)\n",
    "    }[split]\n",
    "    emb = C[X]\n",
    "    embcat = emb.view(emb.shape[0], -1)\n",
    "    hpreact = embcat @ W1 + b1\n",
    "    hpreact = bngain * (hpreact - bnmeani) + (bnvar + 1e-5)**-0.5 * bnbias\n",
    "    h = torch.tanh(hpreact)\n",
    "    logits = h @ W2 + b2\n",
    "    loss = F.cross_entropy(logits, y)\n",
    "    return (split, loss.item())\n",
    "\n",
    "split_loss_bn('train'), split_loss_bn('val')"
   ]
  },
  {
   "cell_type": "code",
   "execution_count": 102,
   "id": "aa289085",
   "metadata": {},
   "outputs": [
    {
     "name": "stdout",
     "output_type": "stream",
     "text": [
      "chruzhfani.\n",
      "heva.\n",
      "khmrristetyk.\n",
      "kayssaetrathtefaphirha.\n",
      "treei.\n",
      "jerosett.\n",
      "maiheda.\n",
      "lett.\n",
      "dhlis.\n",
      "kayzquinn.\n",
      "suovl.\n",
      "amivubrionnella.\n",
      "jaristifradipitrathed.\n",
      "ezo.\n",
      "akettefathraquhpasmouk.\n",
      "tksymrismbwion.\n",
      "zuloj.\n",
      "mikah.\n",
      "fren.\n",
      "kpusadhtuv.\n"
     ]
    }
   ],
   "source": [
    "# sample from the model\n",
    "g = torch.Generator().manual_seed(2147483647 + 10)\n",
    "\n",
    "for _ in range(20):\n",
    "    \n",
    "    out = []\n",
    "    context = [0] * block_size # initialize with all ...\n",
    "    while True:\n",
    "        # forward pass the neural net\n",
    "        emb = C[torch.tensor([context])] # (1,block_size,n_embd)\n",
    "        embcat = emb.view(emb.shape[0], -1)\n",
    "        hpreact = embcat @ W1 + b1\n",
    "        hpreact = bngain * (hpreact - bnmeani) + (bnvar + 1e-5)**-0.5 * bnbias\n",
    "        h = torch.tanh(hpreact)\n",
    "        logits = h @ W2 + b2\n",
    "        probs = F.softmax(logits, dim=1)\n",
    "        # sample from the distribution\n",
    "        ix = torch.multinomial(probs, num_samples=1, generator=g).item()\n",
    "        # shift the context window and track the samples\n",
    "        context = context[1:] + [ix]\n",
    "        out.append(ix)\n",
    "        # if we sample the special '.' token, break\n",
    "        if ix == 0:\n",
    "            break\n",
    "    \n",
    "    print(''.join(itos[i] for i in out)) # decode and print the generated word"
   ]
  },
  {
   "cell_type": "code",
   "execution_count": null,
   "id": "a4122af8",
   "metadata": {},
   "outputs": [],
   "source": []
  }
 ],
 "metadata": {
  "kernelspec": {
   "display_name": "makemore",
   "language": "python",
   "name": "makemore"
  },
  "language_info": {
   "codemirror_mode": {
    "name": "ipython",
    "version": 3
   },
   "file_extension": ".py",
   "mimetype": "text/x-python",
   "name": "python",
   "nbconvert_exporter": "python",
   "pygments_lexer": "ipython3",
   "version": "3.13.5"
  }
 },
 "nbformat": 4,
 "nbformat_minor": 5
}
