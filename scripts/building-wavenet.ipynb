{
 "cells": [
  {
   "cell_type": "markdown",
   "id": "db7a4a01",
   "metadata": {},
   "source": [
    "# Makemore Part 5: building wavenet"
   ]
  },
  {
   "cell_type": "code",
   "execution_count": 13,
   "id": "50d166ba",
   "metadata": {},
   "outputs": [],
   "source": [
    "import torch\n",
    "import torch.nn.functional as F\n",
    "import matplotlib.pyplot as plt\n",
    "%matplotlib inline"
   ]
  },
  {
   "cell_type": "code",
   "execution_count": 14,
   "id": "72259af9",
   "metadata": {},
   "outputs": [],
   "source": [
    "words = open('../data/names.txt', 'r').read().splitlines()"
   ]
  },
  {
   "cell_type": "code",
   "execution_count": 15,
   "id": "8d4c8d58",
   "metadata": {},
   "outputs": [
    {
     "data": {
      "text/plain": [
       "{1: 'a',\n",
       " 2: 'b',\n",
       " 3: 'c',\n",
       " 4: 'd',\n",
       " 5: 'e',\n",
       " 6: 'f',\n",
       " 7: 'g',\n",
       " 8: 'h',\n",
       " 9: 'i',\n",
       " 10: 'j',\n",
       " 11: 'k',\n",
       " 12: 'l',\n",
       " 13: 'm',\n",
       " 14: 'n',\n",
       " 15: 'o',\n",
       " 16: 'p',\n",
       " 17: 'q',\n",
       " 18: 'r',\n",
       " 19: 's',\n",
       " 20: 't',\n",
       " 21: 'u',\n",
       " 22: 'v',\n",
       " 23: 'w',\n",
       " 24: 'x',\n",
       " 25: 'y',\n",
       " 26: 'z',\n",
       " 0: '.'}"
      ]
     },
     "execution_count": 15,
     "metadata": {},
     "output_type": "execute_result"
    }
   ],
   "source": [
    "# build vocab of characters\n",
    "chars = sorted(list(set(''.join(words))))\n",
    "stoi = {s:i+1 for i,s in enumerate(chars)}\n",
    "stoi['.'] = 0\n",
    "itos = {i:s for s,i in stoi.items()}\n",
    "itos"
   ]
  },
  {
   "cell_type": "code",
   "execution_count": 16,
   "id": "9b15ef85",
   "metadata": {},
   "outputs": [],
   "source": [
    "# building the dataset\n",
    "block_size = 3\n",
    "def build_dataset(words):\n",
    "    \n",
    "    X,Y = [],[]\n",
    "    for w in words:\n",
    "        context = [0]*block_size\n",
    "        for ch in w + '.':\n",
    "            ix = stoi[ch]\n",
    "            X.append(context)\n",
    "            Y.append(ix)\n",
    "            context = context[1:] + [ix]\n",
    "    X = torch.tensor(X)\n",
    "    Y = torch.tensor(Y)\n",
    "    return X,Y"
   ]
  },
  {
   "cell_type": "code",
   "execution_count": 17,
   "id": "74da1d5b",
   "metadata": {},
   "outputs": [],
   "source": [
    "# train, val and test splits:\n",
    "import random\n",
    "random.seed(42)\n",
    "n1 = int(0.8*len(words))\n",
    "n2 = int(0.9*len(words))\n",
    "Xtr, Ytr = build_dataset(words[:n1])\n",
    "Xval, Yval = build_dataset(words[n1:n2])\n",
    "Xtest, Ytest = build_dataset(words[n2:])"
   ]
  },
  {
   "cell_type": "code",
   "execution_count": 18,
   "id": "79180a54",
   "metadata": {},
   "outputs": [
    {
     "name": "stdout",
     "output_type": "stream",
     "text": [
      "torch.Size([182778, 3]) torch.Size([22633, 3]) torch.Size([22735, 3])\n"
     ]
    }
   ],
   "source": [
    "print(Xtr.shape, Xval.shape, Xtest.shape)"
   ]
  },
  {
   "cell_type": "code",
   "execution_count": 19,
   "id": "5f199dfe",
   "metadata": {},
   "outputs": [],
   "source": [
    "\n",
    "# ----------------------------------- Linear Layer -----------------------------------\n",
    "class Linear:\n",
    "  def __init__(self, fan_in, fan_out, bias=True):\n",
    "    self.weight = torch.randn((fan_in, fan_out)) / fan_in**0.5\n",
    "    self.bias = torch.zeros(fan_out) if bias else None\n",
    "  \n",
    "  def __call__(self, x):\n",
    "    self.out = x @ self.weight\n",
    "    if self.bias is not None:\n",
    "      self.out += self.bias\n",
    "    return self.out\n",
    "  \n",
    "  def parameters(self):\n",
    "    return [self.weight] + ([] if self.bias is None else [self.bias])"
   ]
  },
  {
   "cell_type": "code",
   "execution_count": 20,
   "id": "24454528",
   "metadata": {},
   "outputs": [],
   "source": [
    "# ----------------------------------- Batch Norm Layer -----------------------------------\n",
    "class BatchNorm1d:\n",
    "    def __init__(self, dim, eps=1e-5, momentum=0.1):\n",
    "        self.eps = eps\n",
    "        self.momentum = momentum\n",
    "        self.training = True\n",
    "        \n",
    "        # parameters (trained with backprop)\n",
    "        self.gamma = torch.ones(dim)\n",
    "        self.beta = torch.zeros(dim)\n",
    "        \n",
    "        # buffers (training with running 'momentum update': mean and std)\n",
    "        self.running_mean = torch.zeros(dim)\n",
    "        self.running_var = torch.ones(dim)\n",
    "        \n",
    "    def __call__(self, x):\n",
    "        # calculate the forward pass\n",
    "        # if we 're training, we calculate mean and std of the batch\n",
    "        if self.training:\n",
    "            xmean = x.mean(0, keepdim=True)\n",
    "            xvar = x.var(0, keepdim=True) # calculate variance because we want to add epsilon(error term) to it to calculate our preactivations\n",
    "        else:\n",
    "            xmean = self.running_mean\n",
    "            xvar = self.running_var\n",
    "        xhat = (x - xmean) / torch.sqrt(xvar + self.eps)\n",
    "        self.out = self.gamma * xhat + self.beta # gamma: gain, beta: bias\n",
    "        \n",
    "        # update buffers if training\n",
    "        if self.training:\n",
    "            with torch.no_grad():\n",
    "                self.running_mean = (1 - self.momentum) * self.running_mean + self.momentum * xmean\n",
    "                self.running_var = (1 - self.momentum) * self.running_var + self.momentum * xvar\n",
    "        return self.out\n",
    "    \n",
    "    def parameters(self):\n",
    "        return [self.gamma, self.beta] # Note: we don't add buffers here as we don't want to train them. They are updated internally in forward pass and not with gradients"
   ]
  },
  {
   "cell_type": "code",
   "execution_count": 21,
   "id": "a9d65bc5",
   "metadata": {},
   "outputs": [],
   "source": [
    "# ----------------------------------- Tanh Layer -----------------------------------\n",
    "class Tanh:\n",
    "  def __call__(self, x):\n",
    "    self.out = torch.tanh(x)\n",
    "    return self.out\n",
    "  def parameters(self):\n",
    "    return []"
   ]
  },
  {
   "cell_type": "markdown",
   "id": "5b58c1c4",
   "metadata": {},
   "source": [
    "## Creating Modules for Embedding and flattening operations\n"
   ]
  },
  {
   "cell_type": "code",
   "execution_count": 34,
   "id": "eb9cafaa",
   "metadata": {},
   "outputs": [],
   "source": [
    "# ----------------------------------- Embedding Layer -----------------------------------\n",
    "class Embedding:\n",
    "    def __init__(self, num_embeddings, embedding_dim):\n",
    "        self.weight = torch.randn((num_embeddings, embedding_dim))\n",
    "        \n",
    "    def __call__(self, Ix):\n",
    "        self.out = self.weight[Ix]\n",
    "        return self.out\n",
    "    \n",
    "    def parameters(self):\n",
    "        return [self.weight]"
   ]
  },
  {
   "cell_type": "code",
   "execution_count": 35,
   "id": "8e734fc6",
   "metadata": {},
   "outputs": [],
   "source": [
    "# ----------------------------------- Flatten Layer -----------------------------------\n",
    "class Flatten:\n",
    "    def __call__(self, x):\n",
    "        self.out = x.view(x.shape[0], -1)\n",
    "        return self.out\n",
    "    \n",
    "    def parameters(self):\n",
    "        return []"
   ]
  },
  {
   "cell_type": "code",
   "execution_count": 22,
   "id": "98652538",
   "metadata": {},
   "outputs": [
    {
     "data": {
      "text/plain": [
       "<torch._C.Generator at 0x10fd7a4f0>"
      ]
     },
     "execution_count": 22,
     "metadata": {},
     "output_type": "execute_result"
    }
   ],
   "source": [
    "# set torch seed \n",
    "torch.manual_seed(42)"
   ]
  },
  {
   "cell_type": "markdown",
   "id": "c706eccc",
   "metadata": {},
   "source": [
    "# Simplifying our layers\n",
    "- Docs: https://docs.pytorch.org/docs/stable/nn.html#containers\n",
    "- Types of containers:\n",
    "    - Module\n",
    "    - Sequential\n",
    "        - A sequential container. Modules will be added to it in the order they are passed in the constructor. Alternatively, an OrderedDict of modules can be passed in. The forward() method of Sequential accepts any input and forwards it to the first module it contains. It then “chains” outputs to inputs sequentially for each subsequent module, finally returning the output of the last module.\n",
    "    - ModuleList\n",
    "    - ModuleDict\n",
    "    - ParameterList\n",
    "    - ParameterDict\n",
    "- We can use something called containers in pytorch\n",
    "- We can use the Sequential container in pytorch to build out a sequence of Linear layers here"
   ]
  },
  {
   "cell_type": "code",
   "execution_count": 37,
   "id": "74492d2a",
   "metadata": {},
   "outputs": [],
   "source": [
    "# ----------------------------------- Sequential Container -----------------------------------\n",
    "class Sequential:\n",
    "    def __init__(self, layers):\n",
    "        self.layers = layers\n",
    "    \n",
    "    def __call__(self, x):\n",
    "        for layer in self.layers:\n",
    "            x = layer(x)\n",
    "        return x\n",
    "    \n",
    "    def parameters(self):\n",
    "        return [p for layer in self.layers for p in layer.parameters()]"
   ]
  },
  {
   "cell_type": "code",
   "execution_count": 46,
   "id": "bc68cd78",
   "metadata": {},
   "outputs": [
    {
     "name": "stdout",
     "output_type": "stream",
     "text": [
      "number of parameters: 12097\n"
     ]
    }
   ],
   "source": [
    "n_embed = 10\n",
    "n_hidden = 200\n",
    "vocab_size = 27\n",
    "block_size = 3\n",
    "\n",
    "model = Sequential([\n",
    "    Embedding(vocab_size, n_embed),\n",
    "    Flatten(),\n",
    "    Linear(n_embed*block_size,n_hidden, bias=False), BatchNorm1d(n_hidden), Tanh(),\n",
    "    Linear(n_hidden, vocab_size)\n",
    "])\n",
    "\n",
    "# weight adjustment for last layer\n",
    "with torch.no_grad():\n",
    "    model.layers[-1].weight*=0.1\n",
    "    \n",
    "# paramater initialization\n",
    "parameters = model.parameters()\n",
    "for p in parameters:\n",
    "    p.requires_grad = True\n",
    "    \n",
    "print(f'number of parameters: {sum(p.nelement() for p in parameters)}')    "
   ]
  },
  {
   "cell_type": "code",
   "execution_count": 47,
   "id": "16af5946",
   "metadata": {},
   "outputs": [],
   "source": [
    "max_steps = 200000\n",
    "batch_size = 32\n",
    "losses = []\n",
    "ud = []"
   ]
  },
  {
   "cell_type": "code",
   "execution_count": 48,
   "id": "6003ef39",
   "metadata": {},
   "outputs": [
    {
     "name": "stdout",
     "output_type": "stream",
     "text": [
      "      0/ 200000: 3.2790\n",
      "  10000/ 200000: 2.4084\n",
      "  20000/ 200000: 2.1853\n",
      "  30000/ 200000: 1.9445\n",
      "  40000/ 200000: 2.1591\n",
      "  50000/ 200000: 1.7867\n",
      "  60000/ 200000: 2.2200\n",
      "  70000/ 200000: 2.0056\n",
      "  80000/ 200000: 2.0890\n",
      "  90000/ 200000: 2.2263\n",
      " 100000/ 200000: 2.2635\n",
      " 110000/ 200000: 2.1835\n",
      " 120000/ 200000: 2.7047\n",
      " 130000/ 200000: 1.9718\n",
      " 140000/ 200000: 1.9659\n",
      " 150000/ 200000: 2.4042\n",
      " 160000/ 200000: 1.8647\n",
      " 170000/ 200000: 2.1023\n",
      " 180000/ 200000: 2.5041\n",
      " 190000/ 200000: 2.1514\n"
     ]
    }
   ],
   "source": [
    "for i in range(max_steps):\n",
    "    ix = torch.randint(0, Xtr.shape[0], (batch_size,))\n",
    "    Xb, Yb = Xtr[ix], Ytr[ix] # batch X, batch Y\n",
    "    \n",
    "    \n",
    "    # forward pass\n",
    "    logits = model(Xb)\n",
    "    ## No longer need to loop through layers, we can simply call model(Xb) for forward pass now. Similar to pytorch nn.Sequential\n",
    "    # x = Xb\n",
    "    # for layer in layers:\n",
    "    #     x = layer(x)\n",
    "    loss = F.cross_entropy(logits, Yb)\n",
    "    \n",
    "    # --- backward pass ---\n",
    "    for p in parameters:\n",
    "        p.grad = None\n",
    "    loss.backward()\n",
    "   \n",
    "    # --- LR update schedule ---\n",
    "    lr  = 0.1 if i < 150000 else 0.01\n",
    "    for p in parameters:\n",
    "        p.data+= -lr*p.grad\n",
    "    \n",
    "    # --- track stats ---\n",
    "    if i % 10000 == 0:\n",
    "        print(f'{i:7d}/{max_steps:7d}: {loss.item():.4f}')\n",
    "    losses.append(loss.log10().item())\n"
   ]
  },
  {
   "cell_type": "code",
   "execution_count": 49,
   "id": "1626b682",
   "metadata": {},
   "outputs": [
    {
     "data": {
      "text/plain": [
       "[<matplotlib.lines.Line2D at 0x121b760d0>]"
      ]
     },
     "execution_count": 49,
     "metadata": {},
     "output_type": "execute_result"
    },
    {
     "data": {
      "image/png": "[encoded data removed]",
      "text/plain": [
       "<Figure size 640x480 with 1 Axes>"
      ]
     },
     "metadata": {},
     "output_type": "display_data"
    }
   ],
   "source": [
    "plt.plot(losses)"
   ]
  },
  {
   "cell_type": "markdown",
   "id": "7287d325",
   "metadata": {},
   "source": [
    "The plot above isn't super informative. We can plot avgs per 1000 iterations and see the loss curve"
   ]
  },
  {
   "cell_type": "code",
   "execution_count": 50,
   "id": "dc14fd9b",
   "metadata": {},
   "outputs": [
    {
     "data": {
      "text/plain": [
       "[<matplotlib.lines.Line2D at 0x121bb4cd0>]"
      ]
     },
     "execution_count": 50,
     "metadata": {},
     "output_type": "execute_result"
    },
    {
     "data": {
      "image/png": "[encoded data removed]",
      "text/plain": [
       "<Figure size 640x480 with 1 Axes>"
      ]
     },
     "metadata": {},
     "output_type": "display_data"
    }
   ],
   "source": [
    "plt.plot(torch.tensor(losses).view(-1,1000).mean(1))"
   ]
  },
  {
   "cell_type": "code",
   "execution_count": 51,
   "id": "97b288ab",
   "metadata": {},
   "outputs": [],
   "source": [
    "# Set layers to eval mode for inference\n",
    "for layer in model.layers:\n",
    "    layer.training = False "
   ]
  },
  {
   "cell_type": "code",
   "execution_count": 52,
   "id": "099e84ca",
   "metadata": {},
   "outputs": [
    {
     "name": "stdout",
     "output_type": "stream",
     "text": [
      "train loss: 2.0124\n",
      "val loss: 2.3223\n"
     ]
    }
   ],
   "source": [
    "@torch.no_grad()\n",
    "def split_loss(split:str)-> None:\n",
    "    X,y = {\n",
    "        'train':(Xtr,Ytr),\n",
    "        'val':(Xval,Yval),\n",
    "        'test':(Xtest,Ytest)\n",
    "    }[split]\n",
    "    # emb = C[X]\n",
    "    # x = emb.view(emb.shape[0],-1)\n",
    "    # for layer in layers:\n",
    "    #     x = layer(x)\n",
    "    logits = model(X)\n",
    "    loss = F.cross_entropy(logits,y)\n",
    "    print(f'{split} loss: {loss.item():.4f}')\n",
    "split_loss('train')\n",
    "split_loss('val')\n",
    "    "
   ]
  },
  {
   "cell_type": "code",
   "execution_count": 53,
   "id": "d2f39d56",
   "metadata": {},
   "outputs": [
    {
     "name": "stdout",
     "output_type": "stream",
     "text": [
      "carmah.\n",
      "amorilvi.\n",
      "kimrix.\n",
      "taty.\n",
      "salaysie.\n",
      "rahnee.\n",
      "den.\n",
      "rhy.\n",
      "kaeli.\n",
      "nellara.\n",
      "chaiiv.\n",
      "kaleigh.\n",
      "ham.\n",
      "joce.\n",
      "quintis.\n",
      "lilea.\n",
      "jadiquintero.\n",
      "dearynn.\n",
      "jace.\n",
      "pinsley.\n"
     ]
    }
   ],
   "source": [
    "# sample from the model\n",
    "g = torch.Generator().manual_seed(2147483647 + 10)\n",
    "\n",
    "for _ in range(20):\n",
    "    \n",
    "    out = []\n",
    "    context = [0] * block_size # initialize with all ...\n",
    "    while True:\n",
    "      # forward pass the neural net\n",
    "      # emb = C[torch.tensor([context])] # (1,block_size,n_embd)\n",
    "      # x = emb.view(emb.shape[0], -1) # concatenate the vectors\n",
    "\n",
    "      # for layer in layers:\n",
    "      #   x = layer(x)\n",
    "      # logits = x\n",
    "      logits = model(torch.tensor([context]))\n",
    "      probs = F.softmax(logits, dim=1)\n",
    "      # sample from the distribution\n",
    "      ix = torch.multinomial(probs, num_samples=1, generator=g).item()\n",
    "      # shift the context window and track the samples\n",
    "      context = context[1:] + [ix]\n",
    "      out.append(ix)\n",
    "      # if we sample the special '.' token, break\n",
    "      if ix == 0:\n",
    "        break\n",
    "    \n",
    "    print(''.join(itos[i] for i in out)) # decode and print the generated word"
   ]
  },
  {
   "cell_type": "markdown",
   "id": "6e81d96d",
   "metadata": {},
   "source": [
    "# Building Wavenet\n",
    "**Wavenet Paper: https://arxiv.org/pdf/1609.03499**\n",
    "- Processing inputs as : \n",
    "\n",
    "![Wavenet Image Processing](../plots/wavenet-input-character-processing.png)"
   ]
  },
  {
   "cell_type": "code",
   "execution_count": 55,
   "id": "c9925d7d",
   "metadata": {},
   "outputs": [],
   "source": [
    "# building the dataset\n",
    "block_size = 8 # expanding our context window\n",
    "def build_dataset(words:list[str])->tuple[torch.Tensor,torch.Tensor]:\n",
    "    \"\"\"_summary_\n",
    "\n",
    "    Args:\n",
    "        words (list[str]): List of words\n",
    "\n",
    "    Returns:\n",
    "        tuple[torch.Tensor,torch.Tensor]: Data set with X as the context and Y as the target\n",
    "    \"\"\"\n",
    "    X,Y = [],[]\n",
    "    for w in words:\n",
    "        context = [0]*block_size\n",
    "        for ch in w + '.':\n",
    "            ix = stoi[ch]\n",
    "            X.append(context)\n",
    "            Y.append(ix)\n",
    "            context = context[1:] + [ix]\n",
    "    X = torch.tensor(X)\n",
    "    Y = torch.tensor(Y)\n",
    "    return X,Y"
   ]
  },
  {
   "cell_type": "code",
   "execution_count": 56,
   "id": "33c392cc",
   "metadata": {},
   "outputs": [],
   "source": [
    "# train, val and test splits:\n",
    "import random\n",
    "random.seed(42)\n",
    "n1 = int(0.8*len(words))\n",
    "n2 = int(0.9*len(words))\n",
    "Xtr, Ytr = build_dataset(words[:n1])\n",
    "Xval, Yval = build_dataset(words[n1:n2])\n",
    "Xtest, Ytest = build_dataset(words[n2:])"
   ]
  },
  {
   "cell_type": "code",
   "execution_count": 57,
   "id": "1899ac83",
   "metadata": {},
   "outputs": [
    {
     "name": "stdout",
     "output_type": "stream",
     "text": [
      "........ -> e\n",
      ".......e -> m\n",
      "......em -> m\n",
      ".....emm -> a\n",
      "....emma -> .\n",
      "........ -> o\n",
      ".......o -> l\n",
      "......ol -> i\n",
      ".....oli -> v\n",
      "....oliv -> i\n",
      "...olivi -> a\n",
      "..olivia -> .\n",
      "........ -> a\n",
      ".......a -> v\n",
      "......av -> a\n",
      ".....ava -> .\n",
      "........ -> i\n",
      ".......i -> s\n",
      "......is -> a\n",
      ".....isa -> b\n"
     ]
    }
   ],
   "source": [
    "for x,y in zip(Xtr[:20], Ytr[:20]):\n",
    "    print(''.join(itos[i.item()] for i in x), '->', itos[y.item()])"
   ]
  },
  {
   "cell_type": "code",
   "execution_count": 76,
   "id": "40ba7bde",
   "metadata": {},
   "outputs": [],
   "source": [
    "# ----------------------------------- Modified Flatten Layer -----------------------------------\n",
    "## This flatten layer now expects a value for how many characters you want consecutively called n_consecutive\n",
    "class FlattenConsecutive:\n",
    "    def __init__(self, n_consecutive:int):\n",
    "        self.n_consecutive = n_consecutive\n",
    "        \n",
    "    def __call__(self, x):\n",
    "        B, T, C = x.shape\n",
    "        x = x.view(B, T//self.n_consecutive, self.n_consecutive*C) # using T//self.n_consecutive instead of -1 to be more explicit\n",
    "        if x.shape[1]==1:\n",
    "            x = x.squeeze(1) # if we have only one character, we can just squeeze the dimension\n",
    "        self.out=x\n",
    "        return self.out\n",
    "    \n",
    "    def parameters(self):\n",
    "        return []"
   ]
  },
  {
   "cell_type": "code",
   "execution_count": 83,
   "id": "a28df245",
   "metadata": {},
   "outputs": [],
   "source": [
    "# ----------------------------------- Modified Batch Norm Layer -----------------------------------\n",
    "class BatchNorm1d:\n",
    "    def __init__(self, dim, eps=1e-5, momentum=0.1):\n",
    "        self.eps = eps\n",
    "        self.momentum = momentum\n",
    "        self.training = True\n",
    "        \n",
    "        # parameters (trained with backprop)\n",
    "        self.gamma = torch.ones(dim)\n",
    "        self.beta = torch.zeros(dim)\n",
    "        \n",
    "        # buffers (training with running 'momentum update': mean and std)\n",
    "        self.running_mean = torch.zeros(dim)\n",
    "        self.running_var = torch.ones(dim)\n",
    "        \n",
    "    def __call__(self, x):\n",
    "        # calculate the forward pass\n",
    "        # if we 're training, we calculate mean and std of the batch\n",
    "        # Adding ability to reduce over multiple dimensions\n",
    "        # Departs from Pytorch's BatchNorm1d implementation (N, C) or (N, C, L), where pytorch assumes C is the 1st dimension. We assume C is the last dimension\n",
    "        if x.ndim==2:\n",
    "            dim = 0\n",
    "        elif x.ndim==3:\n",
    "            dim = (0,1)\n",
    "        else:\n",
    "            raise ValueError(f\"BatchNorm1d expects 2D or 3D input, but got {x.ndim}D input\")\n",
    "        if self.training:\n",
    "            xmean = x.mean(dim, keepdim=True)\n",
    "            xvar = x.var(dim, keepdim=True) # calculate variance because we want to add epsilon(error term) to it to calculate our preactivations\n",
    "        else:\n",
    "            xmean = self.running_mean\n",
    "            xvar = self.running_var\n",
    "        xhat = (x - xmean) / torch.sqrt(xvar + self.eps)\n",
    "        self.out = self.gamma * xhat + self.beta # gamma: gain, beta: bias\n",
    "        \n",
    "        # update buffers if training\n",
    "        if self.training:\n",
    "            with torch.no_grad():\n",
    "                self.running_mean = (1 - self.momentum) * self.running_mean + self.momentum * xmean\n",
    "                self.running_var = (1 - self.momentum) * self.running_var + self.momentum * xvar\n",
    "        return self.out\n",
    "    \n",
    "    def parameters(self):\n",
    "        return [self.gamma, self.beta] # Note: we don't add buffers here as we don't want to train them. They are updated internally in forward pass and not with gradients"
   ]
  },
  {
   "cell_type": "code",
   "execution_count": 101,
   "id": "44273b9a",
   "metadata": {},
   "outputs": [
    {
     "name": "stdout",
     "output_type": "stream",
     "text": [
      "number of parameters: 76579\n"
     ]
    }
   ],
   "source": [
    "n_embed = 24\n",
    "n_hidden = 128 # checking if we 're using all cells efficiently\n",
    "vocab_size = 27\n",
    "block_size = 8\n",
    "n_consecutive = 2\n",
    "\n",
    "model = Sequential([\n",
    "    Embedding(vocab_size, n_embed),\n",
    "    FlattenConsecutive(n_consecutive=n_consecutive),Linear(n_embed*n_consecutive,n_hidden, bias=False), BatchNorm1d(n_hidden), Tanh(),\n",
    "    FlattenConsecutive(n_consecutive=n_consecutive),Linear(n_hidden*n_consecutive,n_hidden, bias=False), BatchNorm1d(n_hidden), Tanh(),\n",
    "    FlattenConsecutive(n_consecutive=n_consecutive),Linear(n_hidden*n_consecutive,n_hidden, bias=False), BatchNorm1d(n_hidden), Tanh(),\n",
    "    Linear(n_hidden, vocab_size)\n",
    "])\n",
    "\n",
    "# weight adjustment for last layer\n",
    "with torch.no_grad():\n",
    "    model.layers[-1].weight*=0.1\n",
    "    \n",
    "# paramater initialization\n",
    "parameters = model.parameters()\n",
    "for p in parameters:\n",
    "    p.requires_grad = True\n",
    "    \n",
    "print(f'number of parameters: {sum(p.nelement() for p in parameters)}')    "
   ]
  },
  {
   "cell_type": "code",
   "execution_count": 85,
   "id": "e195d695",
   "metadata": {},
   "outputs": [],
   "source": [
    "# ix = torch.randint(0, Xtr.shape[0],(4,))\n",
    "# Xb, Yb = Xtr[ix], Ytr[ix]\n",
    "# logits = model(Xb)\n",
    "# print(Xb.shape)\n",
    "# Xb"
   ]
  },
  {
   "cell_type": "code",
   "execution_count": 102,
   "id": "90fcb4da",
   "metadata": {},
   "outputs": [],
   "source": [
    "max_steps = 200000\n",
    "batch_size = 32\n",
    "losses = []"
   ]
  },
  {
   "cell_type": "code",
   "execution_count": 103,
   "id": "ce0580ce",
   "metadata": {},
   "outputs": [
    {
     "name": "stdout",
     "output_type": "stream",
     "text": [
      "      0/ 200000: 3.2891\n",
      "  10000/ 200000: 2.4133\n",
      "  20000/ 200000: 1.9306\n",
      "  30000/ 200000: 2.2376\n",
      "  40000/ 200000: 1.8352\n",
      "  50000/ 200000: 2.1842\n",
      "  60000/ 200000: 1.7624\n",
      "  70000/ 200000: 1.7863\n",
      "  80000/ 200000: 1.9613\n",
      "  90000/ 200000: 1.9515\n",
      " 100000/ 200000: 1.9888\n",
      " 110000/ 200000: 1.8232\n",
      " 120000/ 200000: 2.3805\n",
      " 130000/ 200000: 2.1072\n",
      " 140000/ 200000: 1.8101\n",
      " 150000/ 200000: 1.9345\n",
      " 160000/ 200000: 1.9555\n",
      " 170000/ 200000: 1.7104\n",
      " 180000/ 200000: 2.0974\n",
      " 190000/ 200000: 1.8547\n"
     ]
    }
   ],
   "source": [
    "for i in range(max_steps):\n",
    "    ix = torch.randint(0, Xtr.shape[0], (batch_size,))\n",
    "    Xb, Yb = Xtr[ix], Ytr[ix] # batch X, batch Y\n",
    "    \n",
    "    \n",
    "    # forward pass\n",
    "    logits = model(Xb)\n",
    "    loss = F.cross_entropy(logits, Yb)\n",
    "    \n",
    "    # --- backward pass ---\n",
    "    for p in parameters:\n",
    "        p.grad = None\n",
    "    loss.backward()\n",
    "   \n",
    "    # --- LR update schedule ---\n",
    "    lr  = 0.1 if i < 150000 else 0.01\n",
    "    for p in parameters:\n",
    "        p.data+= -lr*p.grad\n",
    "    \n",
    "    # --- track stats ---\n",
    "    if i % 10000 == 0:\n",
    "        print(f'{i:7d}/{max_steps:7d}: {loss.item():.4f}')\n",
    "    losses.append(loss.log10().item())\n",
    "    "
   ]
  },
  {
   "cell_type": "code",
   "execution_count": 104,
   "id": "118cf190",
   "metadata": {},
   "outputs": [
    {
     "name": "stdout",
     "output_type": "stream",
     "text": [
      "Embedding : (32, 8, 24)\n",
      "FlattenConsecutive : (32, 4, 48)\n",
      "Linear : (32, 4, 128)\n",
      "BatchNorm1d : (32, 4, 128)\n",
      "Tanh : (32, 4, 128)\n",
      "FlattenConsecutive : (32, 2, 256)\n",
      "Linear : (32, 2, 128)\n",
      "BatchNorm1d : (32, 2, 128)\n",
      "Tanh : (32, 2, 128)\n",
      "FlattenConsecutive : (32, 256)\n",
      "Linear : (32, 128)\n",
      "BatchNorm1d : (32, 128)\n",
      "Tanh : (32, 128)\n",
      "Linear : (32, 27)\n"
     ]
    }
   ],
   "source": [
    "for layer in model.layers:\n",
    "    print(layer.__class__.__name__, ':', tuple(layer.out.shape))"
   ]
  },
  {
   "cell_type": "code",
   "execution_count": 94,
   "id": "3a4ab416",
   "metadata": {},
   "outputs": [
    {
     "data": {
      "text/plain": [
       "torch.Size([1, 1, 128])"
      ]
     },
     "execution_count": 94,
     "metadata": {},
     "output_type": "execute_result"
    }
   ],
   "source": [
    "model.layers[3].running_mean.shape # correct shape for running mean after update"
   ]
  },
  {
   "cell_type": "code",
   "execution_count": 105,
   "id": "600193a5",
   "metadata": {},
   "outputs": [
    {
     "data": {
      "text/plain": [
       "[<matplotlib.lines.Line2D at 0x125887ed0>]"
      ]
     },
     "execution_count": 105,
     "metadata": {},
     "output_type": "execute_result"
    },
    {
     "data": {
      "image/png": "[encoded data removed]",
      "text/plain": [
       "<Figure size 640x480 with 1 Axes>"
      ]
     },
     "metadata": {},
     "output_type": "display_data"
    }
   ],
   "source": [
    "plt.plot(torch.tensor(losses).view(-1,1000).mean(1))"
   ]
  },
  {
   "cell_type": "code",
   "execution_count": 107,
   "id": "567e149b",
   "metadata": {},
   "outputs": [],
   "source": [
    "for layer in model.layers:\n",
    "    layer.training = False"
   ]
  },
  {
   "cell_type": "code",
   "execution_count": 108,
   "id": "2d16e764",
   "metadata": {},
   "outputs": [
    {
     "name": "stdout",
     "output_type": "stream",
     "text": [
      "train loss: 1.7249\n",
      "val loss: 2.2488\n"
     ]
    },
    {
     "data": {
      "text/plain": [
       "(None, None)"
      ]
     },
     "execution_count": 108,
     "metadata": {},
     "output_type": "execute_result"
    }
   ],
   "source": [
    "split_loss('train'), split_loss('val')"
   ]
  },
  {
   "cell_type": "code",
   "execution_count": null,
   "id": "9ffef3b9",
   "metadata": {},
   "outputs": [],
   "source": []
  }
 ],
 "metadata": {
  "kernelspec": {
   "display_name": "makemore",
   "language": "python",
   "name": "makemore"
  },
  "language_info": {
   "codemirror_mode": {
    "name": "ipython",
    "version": 3
   },
   "file_extension": ".py",
   "mimetype": "text/x-python",
   "name": "python",
   "nbconvert_exporter": "python",
   "pygments_lexer": "ipython3",
   "version": "3.13.5"
  }
 },
 "nbformat": 4,
 "nbformat_minor": 5
}
